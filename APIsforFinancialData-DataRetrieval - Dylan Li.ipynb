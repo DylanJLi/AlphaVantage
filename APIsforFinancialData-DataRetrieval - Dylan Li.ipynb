{
 "cells": [
  {
   "cell_type": "markdown",
   "metadata": {
    "colab_type": "text",
    "id": "88tCXKMAp2FX"
   },
   "source": [
    "#  APIs for financial data\n",
    "\n",
    "---\n",
    "\n",
    "For both parts of this lab we will use Python to interact with the Alpha Vantage API and export data from different endpoints to answer two research questions.\n",
    "\n",
    "# Part 1: GDP and Consumer Sentiment during the pandemic\n",
    "\n",
    "You have been tasked with analysing how various economic indicators have behaved during the COVID-19 pandemic years (2020 onwards). Your team has already identified a free source of this data: Alpha Vantage (https://www.alphavantage.co). It is now up to you to extract the relevant data about these indicators and write a short report about your findings.\n",
    "\n",
    "***Note: be sure to sign up for a free API key at https://www.alphavantage.co/support/#api-key (more detailed instructions are in the instruction document for this lab)***\n",
    "\n",
    "**1. Find the correct API endpoint to retrieve historical data on GDP**\n",
    "\n",
    "Use the [Documentation](https://www.alphavantage.co/documentation/) to help you."
   ]
  },
  {
   "cell_type": "code",
   "execution_count": 7,
   "metadata": {},
   "outputs": [],
   "source": [
    "url = 'https://www.alphavantage.co/query?function=REAL_GDP&interval=quarterly&apikey=FU1A2AY7ILJUYL4S'"
   ]
  },
  {
   "cell_type": "markdown",
   "metadata": {},
   "source": [
    "**2. Use Python and the `requests` library to make an API call and retrieve historical GDP data at *the highest level of granularity* (i.e. most frequent that the API allows). Remember to add your own API key to the query.**\n",
    "\n",
    "You should convert the results to JSON so it behaves like a Python dictionary, and identify the key within that dictionary that contains the data itself."
   ]
  },
  {
   "cell_type": "code",
   "execution_count": 8,
   "metadata": {
    "scrolled": true
   },
   "outputs": [
    {
     "data": {
      "text/plain": [
       "dict_keys(['name', 'interval', 'unit', 'data'])"
      ]
     },
     "execution_count": 8,
     "metadata": {},
     "output_type": "execute_result"
    }
   ],
   "source": [
    "import requests\n",
    "\n",
    "r = requests.get(url)\n",
    "data = r.json()\n",
    "\n",
    "data.keys()"
   ]
  },
  {
   "cell_type": "markdown",
   "metadata": {},
   "source": [
    "**3. Use the boilerplate code below to export that JSON code to a CSV file using `pandas`**"
   ]
  },
  {
   "cell_type": "code",
   "execution_count": 6,
   "metadata": {},
   "outputs": [],
   "source": [
    "import pandas as pd\n",
    "\n",
    "# give your CSV file a name (including the .csv extension)\n",
    "output_filename = \"Real GDP.csv\"\n",
    "\n",
    "# FILL THIS IN:\n",
    "# this variable should contain ONLY the raw data, not the entire dictionary\n",
    "# returned from the JSON API\n",
    "gdp_data = pd.DataFrame(data['data'])\n",
    "\n",
    "# this code will export your data to a CSV file in the same folder as this notebook\n",
    "gdp_dataframe = pd.DataFrame(gdp_data)\n",
    "gdp_dataframe.to_csv(output_filename, index=False)"
   ]
  },
  {
   "cell_type": "markdown",
   "metadata": {},
   "source": [
    "**4. Now identify the endpoint which allows retrieval of historical consumer sentiment data**"
   ]
  },
  {
   "cell_type": "code",
   "execution_count": 13,
   "metadata": {},
   "outputs": [],
   "source": [
    "url_retail = 'https://www.alphavantage.co/query?function=RETAIL_SALES&apikey=FU1A2AY7ILJUYL4S'"
   ]
  },
  {
   "cell_type": "markdown",
   "metadata": {},
   "source": [
    "**5. Repeat step 2 and retrieve this data from the API in JSON format**\n",
    "\n",
    "Again, ensure you extract the data from the dictionary, don't try to export the entire dictionary itself as it also contains metadata we don't need."
   ]
  },
  {
   "cell_type": "code",
   "execution_count": 15,
   "metadata": {},
   "outputs": [
    {
     "data": {
      "text/plain": [
       "dict_keys(['name', 'interval', 'unit', 'data'])"
      ]
     },
     "execution_count": 15,
     "metadata": {},
     "output_type": "execute_result"
    }
   ],
   "source": [
    "r_retail = requests.get(url_retail)\n",
    "data_retail = r_retail.json()\n",
    "\n",
    "data_retail.keys()"
   ]
  },
  {
   "cell_type": "markdown",
   "metadata": {},
   "source": [
    "**6. Again, export the data to a separate CSV file**"
   ]
  },
  {
   "cell_type": "code",
   "execution_count": 16,
   "metadata": {},
   "outputs": [],
   "source": [
    "# choose something different from above\n",
    "output_filename = \"Retail Sales.csv\"\n",
    "\n",
    "# store your data in this variable:\n",
    "sentiment_data = pd.DataFrame(data_retail['data'])\n",
    "\n",
    "# this code will export to CSV\n",
    "sentiment_dataframe = pd.DataFrame(sentiment_data)\n",
    "sentiment_dataframe.to_csv(output_filename, index=False)"
   ]
  },
  {
   "cell_type": "markdown",
   "metadata": {},
   "source": [
    "# Part 2: Cryptocurrencies\n",
    "\n",
    "Your stakeholders are becoming aware of the rise in cryptocurrencies, and would like to understand the recent growth of this market. Your task is to use the Alpha Vantage API to extract historical data on cryptocurrency market performance, and tell a story about their growth using visuals created in a BI tool of your choice (Tableau/Power BI).\n",
    "\n",
    "**1. Find the correct API endpoints to retrieve historical data on cryptocurrency prices over time. Daily should be a sufficient level of granularity for your purposes.**\n",
    "\n",
    "Use any specific cryptocurrency you wish (e.g. Bitcoin) against the US Dollar.\n",
    "\n",
    "Use the [Documentation](https://www.alphavantage.co/documentation/) to help you."
   ]
  },
  {
   "cell_type": "code",
   "execution_count": 22,
   "metadata": {},
   "outputs": [],
   "source": [
    "url_currency = 'https://www.alphavantage.co/query?function=DIGITAL_CURRENCY_MONTHLY&symbol=BTC&market=USD&apikey=FU1A2AY7ILJUYL4S'"
   ]
  },
  {
   "cell_type": "markdown",
   "metadata": {},
   "source": [
    "**2. Use Python to read the data as JSON**"
   ]
  },
  {
   "cell_type": "code",
   "execution_count": 24,
   "metadata": {},
   "outputs": [
    {
     "name": "stdout",
     "output_type": "stream",
     "text": [
      "{'Meta Data': {'1. Information': 'Monthly Prices and Volumes for Digital Currency', '2. Digital Currency Code': 'BTC', '3. Digital Currency Name': 'Bitcoin', '4. Market Code': 'USD', '5. Market Name': 'United States Dollar', '6. Last Refreshed': '2023-05-15 00:00:00', '7. Time Zone': 'UTC'}, 'Time Series (Digital Currency Monthly)': {'2023-05-15': {'1a. open (USD)': '29233.20000000', '1b. open (USD)': '29233.20000000', '2a. high (USD)': '29820.00000000', '2b. high (USD)': '29820.00000000', '3a. low (USD)': '25811.46000000', '3b. low (USD)': '25811.46000000', '4a. close (USD)': '26826.91000000', '4b. close (USD)': '26826.91000000', '5. volume': '700232.71769000', '6. market cap (USD)': '700232.71769000'}, '2023-04-30': {'1a. open (USD)': '28465.36000000', '1b. open (USD)': '28465.36000000', '2a. high (USD)': '31000.00000000', '2b. high (USD)': '31000.00000000', '3a. low (USD)': '26942.82000000', '3b. low (USD)': '26942.82000000', '4a. close (USD)': '29233.21000000', '4b. close (USD)': '29233.21000000', '5. volume': '1626745.55850000', '6. market cap (USD)': '1626745.55850000'}, '2023-03-31': {'1a. open (USD)': '23141.57000000', '1b. open (USD)': '23141.57000000', '2a. high (USD)': '29184.68000000', '2b. high (USD)': '29184.68000000', '3a. low (USD)': '19549.09000000', '3b. low (USD)': '19549.09000000', '4a. close (USD)': '28465.36000000', '4b. close (USD)': '28465.36000000', '5. volume': '9516189.35846000', '6. market cap (USD)': '9516189.35846000'}, '2023-02-28': {'1a. open (USD)': '23125.13000000', '1b. open (USD)': '23125.13000000', '2a. high (USD)': '25250.00000000', '2b. high (USD)': '25250.00000000', '3a. low (USD)': '21351.07000000', '3b. low (USD)': '21351.07000000', '4a. close (USD)': '23141.57000000', '4b. close (USD)': '23141.57000000', '5. volume': '8642691.27165000', '6. market cap (USD)': '8642691.27165000'}, '2023-01-31': {'1a. open (USD)': '16541.77000000', '1b. open (USD)': '16541.77000000', '2a. high (USD)': '23960.54000000', '2b. high (USD)': '23960.54000000', '3a. low (USD)': '16499.01000000', '3b. low (USD)': '16499.01000000', '4a. close (USD)': '23125.13000000', '4b. close (USD)': '23125.13000000', '5. volume': '7977028.87801000', '6. market cap (USD)': '7977028.87801000'}, '2022-12-31': {'1a. open (USD)': '17165.53000000', '1b. open (USD)': '17165.53000000', '2a. high (USD)': '18387.95000000', '2b. high (USD)': '18387.95000000', '3a. low (USD)': '16256.30000000', '3b. low (USD)': '16256.30000000', '4a. close (USD)': '16542.40000000', '4b. close (USD)': '16542.40000000', '5. volume': '5803833.88187000', '6. market cap (USD)': '5803833.88187000'}, '2022-11-30': {'1a. open (USD)': '20490.74000000', '1b. open (USD)': '20490.74000000', '2a. high (USD)': '21480.65000000', '2b. high (USD)': '21480.65000000', '3a. low (USD)': '15476.00000000', '3b. low (USD)': '15476.00000000', '4a. close (USD)': '17163.64000000', '4b. close (USD)': '17163.64000000', '5. volume': '9127693.50906500', '6. market cap (USD)': '9127693.50906500'}, '2022-10-31': {'1a. open (USD)': '19422.61000000', '1b. open (USD)': '19422.61000000', '2a. high (USD)': '21085.00000000', '2b. high (USD)': '21085.00000000', '3a. low (USD)': '18190.00000000', '3b. low (USD)': '18190.00000000', '4a. close (USD)': '20490.74000000', '4b. close (USD)': '20490.74000000', '5. volume': '7499121.81542000', '6. market cap (USD)': '7499121.81542000'}, '2022-09-30': {'1a. open (USD)': '20048.44000000', '1b. open (USD)': '20048.44000000', '2a. high (USD)': '22799.00000000', '2b. high (USD)': '22799.00000000', '3a. low (USD)': '18125.98000000', '3b. low (USD)': '18125.98000000', '4a. close (USD)': '19422.61000000', '4b. close (USD)': '19422.61000000', '5. volume': '9838930.53657000', '6. market cap (USD)': '9838930.53657000'}, '2022-08-31': {'1a. open (USD)': '23296.36000000', '1b. open (USD)': '23296.36000000', '2a. high (USD)': '25211.32000000', '2b. high (USD)': '25211.32000000', '3a. low (USD)': '19520.00000000', '3b. low (USD)': '19520.00000000', '4a. close (USD)': '20050.02000000', '4b. close (USD)': '20050.02000000', '5. volume': '5692462.41571000', '6. market cap (USD)': '5692462.41571000'}, '2022-07-31': {'1a. open (USD)': '19942.21000000', '1b. open (USD)': '19942.21000000', '2a. high (USD)': '24668.00000000', '2b. high (USD)': '24668.00000000', '3a. low (USD)': '18781.00000000', '3b. low (USD)': '18781.00000000', '4a. close (USD)': '23293.32000000', '4b. close (USD)': '23293.32000000', '5. volume': '4983278.58810000', '6. market cap (USD)': '4983278.58810000'}, '2022-06-30': {'1a. open (USD)': '31801.05000000', '1b. open (USD)': '31801.05000000', '2a. high (USD)': '31982.97000000', '2b. high (USD)': '31982.97000000', '3a. low (USD)': '17622.00000000', '3b. low (USD)': '17622.00000000', '4a. close (USD)': '19942.21000000', '4b. close (USD)': '19942.21000000', '5. volume': '2816058.47322600', '6. market cap (USD)': '2816058.47322600'}, '2022-05-31': {'1a. open (USD)': '37630.80000000', '1b. open (USD)': '37630.80000000', '2a. high (USD)': '40023.77000000', '2b. high (USD)': '40023.77000000', '3a. low (USD)': '26700.00000000', '3b. low (USD)': '26700.00000000', '4a. close (USD)': '31801.04000000', '4b. close (USD)': '31801.04000000', '5. volume': '2387839.68080400', '6. market cap (USD)': '2387839.68080400'}, '2022-04-30': {'1a. open (USD)': '45510.35000000', '1b. open (USD)': '45510.35000000', '2a. high (USD)': '47444.11000000', '2b. high (USD)': '47444.11000000', '3a. low (USD)': '37578.20000000', '3b. low (USD)': '37578.20000000', '4a. close (USD)': '37630.80000000', '4b. close (USD)': '37630.80000000', '5. volume': '1267655.68178000', '6. market cap (USD)': '1267655.68178000'}, '2022-03-31': {'1a. open (USD)': '43160.00000000', '1b. open (USD)': '43160.00000000', '2a. high (USD)': '48189.84000000', '2b. high (USD)': '48189.84000000', '3a. low (USD)': '37155.00000000', '3b. low (USD)': '37155.00000000', '4a. close (USD)': '45510.34000000', '4b. close (USD)': '45510.34000000', '5. volume': '1501398.79591000', '6. market cap (USD)': '1501398.79591000'}, '2022-02-28': {'1a. open (USD)': '38466.90000000', '1b. open (USD)': '38466.90000000', '2a. high (USD)': '45821.00000000', '2b. high (USD)': '45821.00000000', '3a. low (USD)': '34322.28000000', '3b. low (USD)': '34322.28000000', '4a. close (USD)': '43160.00000000', '4b. close (USD)': '43160.00000000', '5. volume': '1253514.21906000', '6. market cap (USD)': '1253514.21906000'}, '2022-01-31': {'1a. open (USD)': '46216.93000000', '1b. open (USD)': '46216.93000000', '2a. high (USD)': '47990.00000000', '2b. high (USD)': '47990.00000000', '3a. low (USD)': '32917.17000000', '3b. low (USD)': '32917.17000000', '4a. close (USD)': '38466.90000000', '4b. close (USD)': '38466.90000000', '5. volume': '1279407.46572100', '6. market cap (USD)': '1279407.46572100'}, '2021-12-31': {'1a. open (USD)': '56950.56000000', '1b. open (USD)': '56950.56000000', '2a. high (USD)': '59053.55000000', '2b. high (USD)': '59053.55000000', '3a. low (USD)': '42000.30000000', '3b. low (USD)': '42000.30000000', '4a. close (USD)': '46216.93000000', '4b. close (USD)': '46216.93000000', '5. volume': '1233745.52431800', '6. market cap (USD)': '1233745.52431800'}, '2021-11-30': {'1a. open (USD)': '61299.81000000', '1b. open (USD)': '61299.81000000', '2a. high (USD)': '69000.00000000', '2b. high (USD)': '69000.00000000', '3a. low (USD)': '53256.64000000', '3b. low (USD)': '53256.64000000', '4a. close (USD)': '56950.56000000', '4b. close (USD)': '56950.56000000', '5. volume': '1291900.10524800', '6. market cap (USD)': '1291900.10524800'}, '2021-10-31': {'1a. open (USD)': '43820.01000000', '1b. open (USD)': '43820.01000000', '2a. high (USD)': '67000.00000000', '2b. high (USD)': '67000.00000000', '3a. low (USD)': '43283.03000000', '3b. low (USD)': '43283.03000000', '4a. close (USD)': '61299.80000000', '4b. close (USD)': '61299.80000000', '5. volume': '1565556.29262300', '6. market cap (USD)': '1565556.29262300'}, '2021-09-30': {'1a. open (USD)': '47100.89000000', '1b. open (USD)': '47100.89000000', '2a. high (USD)': '52920.00000000', '2b. high (USD)': '52920.00000000', '3a. low (USD)': '39600.00000000', '3b. low (USD)': '39600.00000000', '4a. close (USD)': '43824.10000000', '4b. close (USD)': '43824.10000000', '5. volume': '1527799.51076800', '6. market cap (USD)': '1527799.51076800'}, '2021-08-31': {'1a. open (USD)': '41461.84000000', '1b. open (USD)': '41461.84000000', '2a. high (USD)': '50500.00000000', '2b. high (USD)': '50500.00000000', '3a. low (USD)': '37332.70000000', '3b. low (USD)': '37332.70000000', '4a. close (USD)': '47100.89000000', '4b. close (USD)': '47100.89000000', '5. volume': '1635402.87424500', '6. market cap (USD)': '1635402.87424500'}, '2021-07-31': {'1a. open (USD)': '35045.00000000', '1b. open (USD)': '35045.00000000', '2a. high (USD)': '42448.00000000', '2b. high (USD)': '42448.00000000', '3a. low (USD)': '29278.00000000', '3b. low (USD)': '29278.00000000', '4a. close (USD)': '41461.83000000', '4b. close (USD)': '41461.83000000', '5. volume': '1778463.26483700', '6. market cap (USD)': '1778463.26483700'}, '2021-06-30': {'1a. open (USD)': '37253.82000000', '1b. open (USD)': '37253.82000000', '2a. high (USD)': '41330.00000000', '2b. high (USD)': '41330.00000000', '3a. low (USD)': '28805.00000000', '3b. low (USD)': '28805.00000000', '4a. close (USD)': '35045.00000000', '4b. close (USD)': '35045.00000000', '5. volume': '2901775.30592300', '6. market cap (USD)': '2901775.30592300'}, '2021-05-31': {'1a. open (USD)': '57697.25000000', '1b. open (USD)': '57697.25000000', '2a. high (USD)': '59500.00000000', '2b. high (USD)': '59500.00000000', '3a. low (USD)': '30000.00000000', '3b. low (USD)': '30000.00000000', '4a. close (USD)': '37253.81000000', '4b. close (USD)': '37253.81000000', '5. volume': '3536245.25657300', '6. market cap (USD)': '3536245.25657300'}, '2021-04-30': {'1a. open (USD)': '58739.46000000', '1b. open (USD)': '58739.46000000', '2a. high (USD)': '64854.00000000', '2b. high (USD)': '64854.00000000', '3a. low (USD)': '46930.00000000', '3b. low (USD)': '46930.00000000', '4a. close (USD)': '57694.27000000', '4b. close (USD)': '57694.27000000', '5. volume': '1993468.93800700', '6. market cap (USD)': '1993468.93800700'}, '2021-03-31': {'1a. open (USD)': '45134.11000000', '1b. open (USD)': '45134.11000000', '2a. high (USD)': '61844.00000000', '2b. high (USD)': '61844.00000000', '3a. low (USD)': '44950.53000000', '3b. low (USD)': '44950.53000000', '4a. close (USD)': '58740.55000000', '4b. close (USD)': '58740.55000000', '5. volume': '2098808.02743200', '6. market cap (USD)': '2098808.02743200'}, '2021-02-28': {'1a. open (USD)': '33092.97000000', '1b. open (USD)': '33092.97000000', '2a. high (USD)': '58352.80000000', '2b. high (USD)': '58352.80000000', '3a. low (USD)': '32296.16000000', '3b. low (USD)': '32296.16000000', '4a. close (USD)': '45135.66000000', '4b. close (USD)': '45135.66000000', '5. volume': '2518242.14851700', '6. market cap (USD)': '2518242.14851700'}, '2021-01-31': {'1a. open (USD)': '28923.63000000', '1b. open (USD)': '28923.63000000', '2a. high (USD)': '41950.00000000', '2b. high (USD)': '41950.00000000', '3a. low (USD)': '28130.00000000', '3b. low (USD)': '28130.00000000', '4a. close (USD)': '33092.98000000', '4b. close (USD)': '33092.98000000', '5. volume': '3440864.75001900', '6. market cap (USD)': '3440864.75001900'}, '2020-12-31': {'1a. open (USD)': '19695.87000000', '1b. open (USD)': '19695.87000000', '2a. high (USD)': '29300.00000000', '2b. high (USD)': '29300.00000000', '3a. low (USD)': '17572.33000000', '3b. low (USD)': '17572.33000000', '4a. close (USD)': '28923.63000000', '4b. close (USD)': '28923.63000000', '5. volume': '2495281.85621700', '6. market cap (USD)': '2495281.85621700'}, '2020-11-30': {'1a. open (USD)': '13791.00000000', '1b. open (USD)': '13791.00000000', '2a. high (USD)': '19863.16000000', '2b. high (USD)': '19863.16000000', '3a. low (USD)': '13195.05000000', '3b. low (USD)': '13195.05000000', '4a. close (USD)': '19695.87000000', '4b. close (USD)': '19695.87000000', '5. volume': '2707064.91116500', '6. market cap (USD)': '2707064.91116500'}, '2020-10-31': {'1a. open (USD)': '10776.59000000', '1b. open (USD)': '10776.59000000', '2a. high (USD)': '14100.00000000', '2b. high (USD)': '14100.00000000', '3a. low (USD)': '10374.00000000', '3b. low (USD)': '10374.00000000', '4a. close (USD)': '13791.00000000', '4b. close (USD)': '13791.00000000', '5. volume': '1592634.41994600', '6. market cap (USD)': '1592634.41994600'}, '2020-09-30': {'1a. open (USD)': '11649.51000000', '1b. open (USD)': '11649.51000000', '2a. high (USD)': '12050.85000000', '2b. high (USD)': '12050.85000000', '3a. low (USD)': '9825.00000000', '3b. low (USD)': '9825.00000000', '4a. close (USD)': '10776.59000000', '4b. close (USD)': '10776.59000000', '5. volume': '1730389.16017900', '6. market cap (USD)': '1730389.16017900'}}}\n"
     ]
    }
   ],
   "source": [
    "r_currency = requests.get(url_currency)\n",
    "data_currency = r_currency.json()\n",
    "\n",
    "data_currency.keys()\n",
    "print(data_currency)"
   ]
  },
  {
   "cell_type": "markdown",
   "metadata": {},
   "source": [
    "**3. Identify the key which holds the data itself and use the boilerplate code below to export it to a CSV**\n",
    "\n",
    "For this particular dataset we need to do just a little bit more transformation before being able to export, hence this boilerplate code."
   ]
  },
  {
   "cell_type": "code",
   "execution_count": 26,
   "metadata": {},
   "outputs": [],
   "source": [
    "# give your file a name\n",
    "output_filename = \"Cryptocurrencies.csv\"\n",
    "\n",
    "# find the key that contains the data:\n",
    "crypto_data = pd.DataFrame(data_currency['Time Series (Digital Currency Monthly)'])\n",
    "\n",
    "# some additional transformation to ensure we have a \"date\" column in the exported data\n",
    "crypto_dataframe = pd.DataFrame(crypto_data)\n",
    "crypto_dataframe = crypto_dataframe.transpose()\n",
    "crypto_dataframe.to_csv(output_filename, index=True, index_label=\"date\")"
   ]
  },
  {
   "cell_type": "code",
   "execution_count": null,
   "metadata": {},
   "outputs": [],
   "source": []
  }
 ],
 "metadata": {
  "colab": {
   "name": "intro_to_python.ipynb",
   "provenance": []
  },
  "kernelspec": {
   "display_name": "Python 3 (ipykernel)",
   "language": "python",
   "name": "python3"
  },
  "language_info": {
   "codemirror_mode": {
    "name": "ipython",
    "version": 3
   },
   "file_extension": ".py",
   "mimetype": "text/x-python",
   "name": "python",
   "nbconvert_exporter": "python",
   "pygments_lexer": "ipython3",
   "version": "3.10.9"
  }
 },
 "nbformat": 4,
 "nbformat_minor": 1
}
